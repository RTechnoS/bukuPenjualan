{
 "cells": [
  {
   "cell_type": "code",
   "execution_count": 47,
   "id": "31405754-34bd-4a20-a176-1bb09564de9b",
   "metadata": {},
   "outputs": [],
   "source": [
    "import matplotlib.pyplot as plt\n",
    "import numpy as np\n",
    "from matplotlib.figure import Figure\n"
   ]
  },
  {
   "cell_type": "code",
   "execution_count": 61,
   "id": "5974325c-6039-45bd-b81e-55a8c7c0ba61",
   "metadata": {},
   "outputs": [],
   "source": [
    "raw_data = {'total': {'income': 68133600, 'sold': 14, 'product_type': 2, 'product': 3, 'via': 1}, 'product_type': {'DM ML': {'sold': 10, 'income': 31743600}, 'DM FF': {'sold': 4, 'income': 36390000}}, 'product': {'120 DM': {'sold': 5, 'income': 31650000}, '16 DM': {'sold': 4, 'income': 36390000}, '86 DM': {'sold': 5, 'income': 93600}}, 'via': {'DANA': {'kidsgamestore': {'sold': 14, 'income': 68133600}}}}"
   ]
  },
  {
   "cell_type": "code",
   "execution_count": 64,
   "id": "cfbed6f5-ee59-497d-8e23-4894fe96356c",
   "metadata": {},
   "outputs": [
    {
     "name": "stdout",
     "output_type": "stream",
     "text": [
      "DANA kidsgamestore\n",
      "68133600\n"
     ]
    }
   ],
   "source": [
    "list_via = [[],[]]\n",
    "for i in raw_data['via']:\n",
    "    for j in raw_data['via'][i]:\n",
    "        print(i,j)\n",
    "        print(raw_data['via'][i][j]['income'])"
   ]
  },
  {
   "cell_type": "code",
   "execution_count": 52,
   "id": "2ec90d0d-2390-4d9c-8273-f90bd59526f5",
   "metadata": {},
   "outputs": [
    {
     "name": "stdout",
     "output_type": "stream",
     "text": [
      "[['DM ML', 'DM FF'], [31743600, 36390000]]\n"
     ]
    },
    {
     "data": {
      "text/plain": [
       "<Figure size 1000x1000 with 0 Axes>"
      ]
     },
     "metadata": {},
     "output_type": "display_data"
    }
   ],
   "source": [
    "plt.figure(figsize=(10,10), dpi=100)\n",
    "\n",
    "y = [35, 25, 25, 15]\n",
    "\n",
    "list_product_type = [[],[]]\n",
    "for i in raw_data['product_type']:\n",
    "    list_product_type[0].append(i)\n",
    "    list_product_type[1].append(raw_data['product_type'][i]['income'])\n",
    "\n",
    "print(list_product_type)\n",
    "myexplode = [0.2, 0, 0, 0]\n"
   ]
  },
  {
   "cell_type": "code",
   "execution_count": 55,
   "id": "c2b74c5a-573c-4075-bf0f-80388f4e7803",
   "metadata": {},
   "outputs": [],
   "source": [
    "fig = Figure(figsize = (4, 4), dpi = 50)\n",
    "plot1 = fig.add_subplot(111)\n",
    "plot1.pie(list_product_type[1], labels = list_product_type[0])\n",
    "plt.show()"
   ]
  },
  {
   "cell_type": "code",
   "execution_count": 44,
   "id": "1e28cc32-9bb5-4140-b073-e393f612390e",
   "metadata": {},
   "outputs": [],
   "source": [
    "def generate_chartPie(data):\n",
    "    #plt.figure(figsize=(10,10), dpi=100           \n",
    "    plt.pie(data[1], labels = data[0])\n",
    "    return plt"
   ]
  },
  {
   "cell_type": "code",
   "execution_count": 45,
   "id": "a7ffd719-ca99-4dfb-8054-16a8a3879fa6",
   "metadata": {},
   "outputs": [
    {
     "data": {
      "image/png": "[encoded data removed]",
      "text/plain": [
       "<Figure size 432x288 with 1 Axes>"
      ]
     },
     "metadata": {},
     "output_type": "display_data"
    }
   ],
   "source": [
    "p = generate_chartPie(list_product_type)\n",
    "p.show()"
   ]
  },
  {
   "cell_type": "code",
   "execution_count": null,
   "id": "a2e48c33-110f-44c0-b336-23b659d4ce36",
   "metadata": {},
   "outputs": [],
   "source": []
  }
 ],
 "metadata": {
  "kernelspec": {
   "display_name": "Python 3",
   "language": "python",
   "name": "python3"
  },
  "language_info": {
   "codemirror_mode": {
    "name": "ipython",
    "version": 3
   },
   "file_extension": ".py",
   "mimetype": "text/x-python",
   "name": "python",
   "nbconvert_exporter": "python",
   "pygments_lexer": "ipython3",
   "version": "3.9.2"
  }
 },
 "nbformat": 4,
 "nbformat_minor": 5
}
